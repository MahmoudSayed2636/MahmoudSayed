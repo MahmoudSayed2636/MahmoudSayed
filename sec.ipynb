{
 "cells": [
  {
   "cell_type": "code",
   "execution_count": null,
   "metadata": {},
   "outputs": [],
   "source": [
    "from cobra import Model,Reaction,Metabolite"
   ]
  },
  {
   "cell_type": "code",
   "execution_count": null,
   "metadata": {},
   "outputs": [],
   "source": [
    "model=Model('first_model')"
   ]
  },
  {
   "cell_type": "code",
   "execution_count": null,
   "metadata": {},
   "outputs": [],
   "source": [
    "v0=Reaction('v0')\n",
    "v0.name='v0'\n",
    "v0.lower_bound=20\n",
    "v0.upper_bound=20"
   ]
  },
  {
   "cell_type": "code",
   "execution_count": null,
   "metadata": {},
   "outputs": [],
   "source": [
    "v1=Reaction('v1')\n",
    "v1.name='v1'\n",
    "v1.lower_bound=0\n",
    "v1.upper_bound=1000"
   ]
  },
  {
   "cell_type": "code",
   "execution_count": null,
   "metadata": {},
   "outputs": [],
   "source": [
    "v2=Reaction('v2')\n",
    "v2.name='v2'\n",
    "v2.lower_bound=0\n",
    "v2.upper_bound=1000"
   ]
  },
  {
   "cell_type": "code",
   "execution_count": null,
   "metadata": {},
   "outputs": [],
   "source": [
    "v3=Reaction('v3')\n",
    "v3.name='v3'\n",
    "v3.lower_bound=18\n",
    "v3.upper_bound=18"
   ]
  },
  {
   "cell_type": "code",
   "execution_count": null,
   "metadata": {},
   "outputs": [],
   "source": [
    "v4=Reaction('v4')\n",
    "v4.name='v4'\n",
    "v4.lower_bound=0\n",
    "v4.upper_bound=1000"
   ]
  },
  {
   "cell_type": "code",
   "execution_count": null,
   "metadata": {},
   "outputs": [],
   "source": [
    "M=Reaction('M')\n",
    "M.name='M'\n",
    "M.lower_bound=0\n",
    "M.upper_bound=1000"
   ]
  },
  {
   "cell_type": "code",
   "execution_count": null,
   "metadata": {},
   "outputs": [],
   "source": [
    "A=Metabolite('A',compartment='c')\n",
    "B=Metabolite('B',compartment='c')\n",
    "C=Metabolite('C',compartment='c')\n",
    "ATP=Metabolite('ATP',compartment='c')"
   ]
  },
  {
   "cell_type": "code",
   "execution_count": null,
   "metadata": {},
   "outputs": [],
   "source": [
    "# v0: => A\n",
    "v0.add_metabolites({A:1})"
   ]
  },
  {
   "cell_type": "code",
   "execution_count": null,
   "metadata": {},
   "outputs": [],
   "source": [
    " # v1: A => B\n",
    "v1.add_metabolites({A:-1,B:1})"
   ]
  },
  {
   "cell_type": "markdown",
   "metadata": {},
   "source": [
    "This is mean (A) is decrease one and (B) is increase one"
   ]
  },
  {
   "cell_type": "code",
   "execution_count": null,
   "metadata": {},
   "outputs": [],
   "source": [
    "# v2: B => C\n",
    "v2.add_metabolites({B:-1,C:1})"
   ]
  },
  {
   "cell_type": "code",
   "execution_count": null,
   "metadata": {},
   "outputs": [],
   "source": [
    "# v3: A => ATP\n",
    "v3.add_metabolites({A:-1,ATP:1})"
   ]
  },
  {
   "cell_type": "code",
   "execution_count": null,
   "metadata": {},
   "outputs": [],
   "source": [
    "# M: C => \n",
    "M.add_metabolites({C:-1})"
   ]
  },
  {
   "cell_type": "code",
   "execution_count": null,
   "metadata": {},
   "outputs": [],
   "source": [
    "# v4: ATP =>\n",
    "v4.add_metabolites({ATP:-1})"
   ]
  },
  {
   "cell_type": "code",
   "execution_count": null,
   "metadata": {},
   "outputs": [],
   "source": [
    "model.add_reactions([v0,v1,v2,v3,v4,M])"
   ]
  },
  {
   "cell_type": "code",
   "execution_count": null,
   "metadata": {},
   "outputs": [],
   "source": [
    "model.objective='M'"
   ]
  },
  {
   "cell_type": "code",
   "execution_count": null,
   "metadata": {},
   "outputs": [],
   "source": [
    "model.optimize()"
   ]
  }
 ],
 "metadata": {
  "interpreter": {
   "hash": "8a621e47cbef7b44fc2723ea5c4e54f02c569c5843493abb6201c5a6b074f6d3"
  },
  "kernelspec": {
   "display_name": "Python 3.9.9 64-bit (windows store)",
   "language": "python",
   "name": "python3"
  },
  "language_info": {
   "name": "python",
   "version": "3.9.9"
  },
  "orig_nbformat": 4
 },
 "nbformat": 4,
 "nbformat_minor": 2
}
